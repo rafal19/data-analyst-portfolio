{
 "cells": [
  {
   "cell_type": "code",
   "execution_count": 7,
   "id": "624f37bb",
   "metadata": {},
   "outputs": [],
   "source": [
    "import pandas as pd "
   ]
  },
  {
   "cell_type": "code",
   "execution_count": 20,
   "id": "5092b24c",
   "metadata": {},
   "outputs": [],
   "source": [
    "df = pd.read_excel('airbnb.xlsx')"
   ]
  },
  {
   "cell_type": "code",
   "execution_count": 21,
   "id": "7a7d5173",
   "metadata": {},
   "outputs": [
    {
     "data": {
      "text/plain": [
       "Host Id                                int64\n",
       "Host Since                    datetime64[ns]\n",
       "Name                                  object\n",
       "Neighbourhood                         object\n",
       "Property Type                         object\n",
       "Review Scores Rating (bin)           float64\n",
       "Room Type                             object\n",
       "Zipcode                              float64\n",
       "Beds                                 float64\n",
       "Number of Records                      int64\n",
       "Number Of Reviews                      int64\n",
       "Price                                  int64\n",
       "Review Scores Rating                 float64\n",
       "dtype: object"
      ]
     },
     "execution_count": 21,
     "metadata": {},
     "output_type": "execute_result"
    }
   ],
   "source": [
    "df.dtypes"
   ]
  },
  {
   "cell_type": "code",
   "execution_count": 23,
   "id": "b2772d9f",
   "metadata": {},
   "outputs": [
    {
     "data": {
      "text/plain": [
       "array([11249., 11206., 10032., 10024., 10036., 11222., 10004., 11201.,\n",
       "       10009., 11221., 10026., 11223., 10018., 11216., 10025., 11106.,\n",
       "       10001., 10013., 11365., 11220., 11373., 10002., 10038., 10027.,\n",
       "       11217., 11238., 11213., 10030., 11368., 10031., 11105., 10003.,\n",
       "       10016., 10128., 10005., 11215., 10010., 10011., 11211., 10023.,\n",
       "       10014., 11218., 10035., 10019., 11358., 11237., 11231., 11372.,\n",
       "       10451., 11205.,    nan, 10304., 10029., 10012., 11225., 10028.,\n",
       "       10281., 11233., 10039., 10033., 11434., 10280., 10075., 10021.,\n",
       "       10065., 11210., 11226., 11374., 11101., 11377., 11207., 11230.,\n",
       "       11693., 11102., 10007., 11692., 11209., 11228., 10069., 11224.,\n",
       "       11420., 11385., 11435., 11375., 10466., 10473., 10461., 11355.,\n",
       "       10022., 10017., 10454., 10040., 10044., 11234., 10034., 11103.,\n",
       "       10006., 11212., 10301., 10452., 10472., 11379., 11232., 10037.,\n",
       "       10463., 10475., 11235., 10468., 11378., 11204., 10455., 11208.,\n",
       "       11109., 11427., 11104., 10470., 10458., 10460., 10469., 11236.,\n",
       "       10471., 11370., 10305., 11418., 11412., 11203., 11214., 10456.,\n",
       "       11219., 11354., 11429., 10307., 11433., 10303., 10465., 11694.,\n",
       "       11416., 10080., 10453., 11421., 11361., 11432., 10314., 11415.,\n",
       "       11691., 10020., 10162., 11411., 11369., 11428., 11367., 10467.,\n",
       "       11360., 10312.,  7030., 11229., 11366., 10282., 11356., 10306.,\n",
       "       10462., 10464., 10459., 11239.,  7712., 10302., 11436., 10286.,\n",
       "       11413., 11417., 10457., 10704., 11419., 99135., 11422., 10308.,\n",
       "       11357., 10309., 11364., 11423., 10112., 10119., 10310.,  7105.,\n",
       "       11414., 10474., 94103., 11426.,  1003.])"
      ]
     },
     "execution_count": 23,
     "metadata": {},
     "output_type": "execute_result"
    }
   ],
   "source": [
    "df['Zipcode'].unique()"
   ]
  },
  {
   "cell_type": "code",
   "execution_count": 24,
   "id": "909041cf",
   "metadata": {},
   "outputs": [],
   "source": [
    "df['Zipcode'].fillna(0,inplace=True)"
   ]
  },
  {
   "cell_type": "code",
   "execution_count": 45,
   "id": "0a4b5caf",
   "metadata": {},
   "outputs": [],
   "source": [
    "df['Beds'].fillna(1,inplace=True)"
   ]
  },
  {
   "cell_type": "code",
   "execution_count": 32,
   "id": "12c787ed",
   "metadata": {},
   "outputs": [],
   "source": [
    "df['Zipcode']= df['Zipcode'].astype('int64')"
   ]
  },
  {
   "cell_type": "code",
   "execution_count": 33,
   "id": "b28b02d2",
   "metadata": {},
   "outputs": [],
   "source": [
    "df['Beds'] = df['Beds'].astype('int64')"
   ]
  },
  {
   "cell_type": "code",
   "execution_count": 34,
   "id": "72cf6d97",
   "metadata": {},
   "outputs": [
    {
     "data": {
      "text/plain": [
       "Host Id                                int64\n",
       "Host Since                    datetime64[ns]\n",
       "Name                                  object\n",
       "Neighbourhood                         object\n",
       "Property Type                         object\n",
       "Review Scores Rating (bin)           float64\n",
       "Room Type                             object\n",
       "Zipcode                                int64\n",
       "Beds                                   int64\n",
       "Number of Records                      int64\n",
       "Number Of Reviews                      int64\n",
       "Price                                  int64\n",
       "Review Scores Rating                 float64\n",
       "dtype: object"
      ]
     },
     "execution_count": 34,
     "metadata": {},
     "output_type": "execute_result"
    }
   ],
   "source": [
    "df.dtypes"
   ]
  },
  {
   "cell_type": "code",
   "execution_count": 39,
   "id": "5ede8a9d",
   "metadata": {},
   "outputs": [
    {
     "data": {
      "text/html": [
       "<div>\n",
       "<style scoped>\n",
       "    .dataframe tbody tr th:only-of-type {\n",
       "        vertical-align: middle;\n",
       "    }\n",
       "\n",
       "    .dataframe tbody tr th {\n",
       "        vertical-align: top;\n",
       "    }\n",
       "\n",
       "    .dataframe thead th {\n",
       "        text-align: right;\n",
       "    }\n",
       "</style>\n",
       "<table border=\"1\" class=\"dataframe\">\n",
       "  <thead>\n",
       "    <tr style=\"text-align: right;\">\n",
       "      <th></th>\n",
       "      <th>Host Id</th>\n",
       "      <th>Host Since</th>\n",
       "      <th>Name</th>\n",
       "      <th>Neighbourhood</th>\n",
       "      <th>Property Type</th>\n",
       "      <th>Review Scores Rating (bin)</th>\n",
       "      <th>Room Type</th>\n",
       "      <th>Zipcode</th>\n",
       "      <th>Beds</th>\n",
       "      <th>Number of Records</th>\n",
       "      <th>Number Of Reviews</th>\n",
       "      <th>Price</th>\n",
       "      <th>Review Scores Rating</th>\n",
       "    </tr>\n",
       "  </thead>\n",
       "  <tbody>\n",
       "    <tr>\n",
       "      <th>433</th>\n",
       "      <td>58979</td>\n",
       "      <td>2009-12-01</td>\n",
       "      <td>Bright and Cheery Chelsea Studio</td>\n",
       "      <td>Manhattan</td>\n",
       "      <td>NaN</td>\n",
       "      <td>95.0</td>\n",
       "      <td>Private room</td>\n",
       "      <td>10011</td>\n",
       "      <td>1</td>\n",
       "      <td>1</td>\n",
       "      <td>28</td>\n",
       "      <td>165</td>\n",
       "      <td>98.0</td>\n",
       "    </tr>\n",
       "    <tr>\n",
       "      <th>7893</th>\n",
       "      <td>2837739</td>\n",
       "      <td>2012-07-05</td>\n",
       "      <td>Hip &amp; Spacious 1BD in the LES</td>\n",
       "      <td>Manhattan</td>\n",
       "      <td>NaN</td>\n",
       "      <td>85.0</td>\n",
       "      <td>Entire home/apt</td>\n",
       "      <td>10002</td>\n",
       "      <td>1</td>\n",
       "      <td>1</td>\n",
       "      <td>24</td>\n",
       "      <td>150</td>\n",
       "      <td>89.0</td>\n",
       "    </tr>\n",
       "    <tr>\n",
       "      <th>20551</th>\n",
       "      <td>16915992</td>\n",
       "      <td>2014-06-17</td>\n",
       "      <td>Entire home/apt in New York</td>\n",
       "      <td>Manhattan</td>\n",
       "      <td>NaN</td>\n",
       "      <td>NaN</td>\n",
       "      <td>Entire home/apt</td>\n",
       "      <td>10002</td>\n",
       "      <td>2</td>\n",
       "      <td>1</td>\n",
       "      <td>0</td>\n",
       "      <td>120</td>\n",
       "      <td>NaN</td>\n",
       "    </tr>\n",
       "  </tbody>\n",
       "</table>\n",
       "</div>"
      ],
      "text/plain": [
       "        Host Id Host Since                              Name Neighbourhood   \\\n",
       "433       58979 2009-12-01  Bright and Cheery Chelsea Studio      Manhattan   \n",
       "7893    2837739 2012-07-05     Hip & Spacious 1BD in the LES      Manhattan   \n",
       "20551  16915992 2014-06-17       Entire home/apt in New York      Manhattan   \n",
       "\n",
       "      Property Type  Review Scores Rating (bin)        Room Type  Zipcode  \\\n",
       "433             NaN                        95.0     Private room    10011   \n",
       "7893            NaN                        85.0  Entire home/apt    10002   \n",
       "20551           NaN                         NaN  Entire home/apt    10002   \n",
       "\n",
       "       Beds  Number of Records  Number Of Reviews  Price  Review Scores Rating  \n",
       "433       1                  1                 28    165                  98.0  \n",
       "7893      1                  1                 24    150                  89.0  \n",
       "20551     2                  1                  0    120                   NaN  "
      ]
     },
     "execution_count": 39,
     "metadata": {},
     "output_type": "execute_result"
    }
   ],
   "source": [
    "df[pd.isna(df['Property Type'])]"
   ]
  },
  {
   "cell_type": "code",
   "execution_count": 40,
   "id": "59dfc8d3",
   "metadata": {},
   "outputs": [
    {
     "data": {
      "text/plain": [
       "array(['Apartment', 'House', 'Other', 'Bed & Breakfast', 'Loft',\n",
       "       'Condominium', 'Townhouse', nan, 'Dorm', 'Boat', 'Cabin', 'Villa',\n",
       "       'Bungalow', 'Camper/RV', 'Treehouse', 'Tent', 'Hut', 'Lighthouse',\n",
       "       'Chalet', 'Castle'], dtype=object)"
      ]
     },
     "execution_count": 40,
     "metadata": {},
     "output_type": "execute_result"
    }
   ],
   "source": [
    "df['Property Type'].unique()"
   ]
  },
  {
   "cell_type": "code",
   "execution_count": 41,
   "id": "dc8e957d",
   "metadata": {},
   "outputs": [],
   "source": [
    "df['Property Type'].fillna('Other',inplace=True)"
   ]
  },
  {
   "cell_type": "code",
   "execution_count": 42,
   "id": "dd260d5e",
   "metadata": {},
   "outputs": [
    {
     "data": {
      "text/html": [
       "<div>\n",
       "<style scoped>\n",
       "    .dataframe tbody tr th:only-of-type {\n",
       "        vertical-align: middle;\n",
       "    }\n",
       "\n",
       "    .dataframe tbody tr th {\n",
       "        vertical-align: top;\n",
       "    }\n",
       "\n",
       "    .dataframe thead th {\n",
       "        text-align: right;\n",
       "    }\n",
       "</style>\n",
       "<table border=\"1\" class=\"dataframe\">\n",
       "  <thead>\n",
       "    <tr style=\"text-align: right;\">\n",
       "      <th></th>\n",
       "      <th>Host Id</th>\n",
       "      <th>Host Since</th>\n",
       "      <th>Name</th>\n",
       "      <th>Neighbourhood</th>\n",
       "      <th>Property Type</th>\n",
       "      <th>Review Scores Rating (bin)</th>\n",
       "      <th>Room Type</th>\n",
       "      <th>Zipcode</th>\n",
       "      <th>Beds</th>\n",
       "      <th>Number of Records</th>\n",
       "      <th>Number Of Reviews</th>\n",
       "      <th>Price</th>\n",
       "      <th>Review Scores Rating</th>\n",
       "    </tr>\n",
       "  </thead>\n",
       "  <tbody>\n",
       "  </tbody>\n",
       "</table>\n",
       "</div>"
      ],
      "text/plain": [
       "Empty DataFrame\n",
       "Columns: [Host Id, Host Since, Name, Neighbourhood , Property Type, Review Scores Rating (bin), Room Type, Zipcode, Beds, Number of Records, Number Of Reviews, Price, Review Scores Rating]\n",
       "Index: []"
      ]
     },
     "execution_count": 42,
     "metadata": {},
     "output_type": "execute_result"
    }
   ],
   "source": [
    "df[pd.isna(df['Property Type'])]"
   ]
  },
  {
   "cell_type": "code",
   "execution_count": 47,
   "id": "8766d95d",
   "metadata": {},
   "outputs": [],
   "source": [
    "len(df)\n",
    "df['City'] = 'New York'"
   ]
  },
  {
   "cell_type": "code",
   "execution_count": 48,
   "id": "09aa2375",
   "metadata": {},
   "outputs": [],
   "source": [
    "df.to_excel('airbnb_cleaned.xlsx')"
   ]
  },
  {
   "cell_type": "code",
   "execution_count": null,
   "id": "1f23761f",
   "metadata": {},
   "outputs": [],
   "source": []
  }
 ],
 "metadata": {
  "kernelspec": {
   "display_name": "Python 3 (ipykernel)",
   "language": "python",
   "name": "python3"
  },
  "language_info": {
   "codemirror_mode": {
    "name": "ipython",
    "version": 3
   },
   "file_extension": ".py",
   "mimetype": "text/x-python",
   "name": "python",
   "nbconvert_exporter": "python",
   "pygments_lexer": "ipython3",
   "version": "3.10.9"
  }
 },
 "nbformat": 4,
 "nbformat_minor": 5
}
